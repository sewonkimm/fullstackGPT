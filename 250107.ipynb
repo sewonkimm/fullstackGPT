{
 "cells": [
  {
   "cell_type": "code",
   "execution_count": null,
   "metadata": {},
   "outputs": [],
   "source": [
    "from langchain.chat_models import ChatOpenAI\n",
    "from langchain.callbacks import StreamingStdOutCallbackHandler\n",
    "from langchain.prompts import PromptTemplate\n",
    "\n",
    "chat = ChatOpenAI(\n",
    "    model=\"gpt-3.5-turbo\", \n",
    "    temperature=0.1, \n",
    "    streaming=True,\n",
    "    callbacks=[StreamingStdOutCallbackHandler()]\n",
    "    )\n",
    "\n",
    "example_prompt = PromptTemplate.from_template(\"Question: {question}\\n{answer}\")\n",
    "\n",
    "examples = [\n",
    "    {\n",
    "        \"question\": \"Inception\",\n",
    "        \"answer\": \"\"\"\n",
    "감독: 크리스토퍼 놀란\n",
    "주요 출연진: 레오나르도 디카프리오, 조셉 고든 레빗, 엘런 페이지\n",
    "예산: 약 1억 6천만 달러\n",
    "흥행 수익: 약 8억 2천만 달러\n",
    "장르: SF, 스릴러\n",
    "시놉시스: 꿈속의 꿈이라는 독특한 아이디어를 활용해 타인의 꿈에 침투하여 정보를 훔치거나 심는 임무를 수행하는 '도미닉 코브'의 이야기를 그린 영화.\n",
    "\"\"\"\n",
    "    },\n",
    "    {\n",
    "        \"question\": \"Parasite\",\n",
    "        \"answer\": \"\"\"\n",
    "감독: 봉준호\n",
    "주요 출연진: 송강호, 이선균, 조여정, 최우식, 박소담\n",
    "예산: 약 150억 원\n",
    "흥행 수익: 약 2억 6천만 달러\n",
    "장르: 드라마, 스릴러\n",
    "시놉시스: 가난한 가족 '기택' 일가가 부유한 가족의 삶에 스며들며 벌어지는 갈등과 비극을 다룬 블랙 코미디 영화.\n",
    "\"\"\"\n",
    "    },\n",
    "    {\n",
    "        \"question\": \"Titanic\",\n",
    "        \"answer\": \"\"\"\n",
    "감독: 제임스 카메론\n",
    "주요 출연진: 레오나르도 디카프리오, 케이트 윈슬렛\n",
    "예산: 약 2억 달러\n",
    "흥행 수익: 약 22억 달러\n",
    "장르: 로맨스, 드라마\n",
    "시놉시스: 초호화 여객선 '타이타닉호'의 역사적인 침몰 사고를 배경으로, 계급을 초월한 두 청춘남녀 '잭'과 '로즈'의 사랑 이야기를 그린 영화.\n",
    "\"\"\"\n",
    "    }\n",
    "]\n",
    "\n",
    "print(example_prompt.invoke(examples[0]).to_string())"
   ]
  },
  {
   "cell_type": "code",
   "execution_count": 11,
   "metadata": {},
   "outputs": [
    {
     "data": {
      "text/plain": [
       "\"Question: Inception\\n\\n감독: 크리스토퍼 놀란\\n주요 출연진: 레오나르도 디카프리오, 조셉 고든 레빗, 엘런 페이지\\n예산: 약 1억 6천만 달러\\n흥행 수익: 약 8억 2천만 달러\\n장르: SF, 스릴러\\n시놉시스: 꿈속의 꿈이라는 독특한 아이디어를 활용해 타인의 꿈에 침투하여 정보를 훔치거나 심는 임무를 수행하는 '도미닉 코브'의 이야기를 그린 영화.\\n\\n\\nQuestion: Parasite\\n\\n감독: 봉준호\\n주요 출연진: 송강호, 이선균, 조여정, 최우식, 박소담\\n예산: 약 150억 원\\n흥행 수익: 약 2억 6천만 달러\\n장르: 드라마, 스릴러\\n시놉시스: 가난한 가족 '기택' 일가가 부유한 가족의 삶에 스며들며 벌어지는 갈등과 비극을 다룬 블랙 코미디 영화.\\n\\n\\nQuestion: Titanic\\n\\n감독: 제임스 카메론\\n주요 출연진: 레오나르도 디카프리오, 케이트 윈슬렛\\n예산: 약 2억 달러\\n흥행 수익: 약 22억 달러\\n장르: 로맨스, 드라마\\n시놉시스: 초호화 여객선 '타이타닉호'의 역사적인 침몰 사고를 배경으로, 계급을 초월한 두 청춘남녀 '잭'과 '로즈'의 사랑 이야기를 그린 영화.\\n\\n\\nQuestion: The Holdovers\""
      ]
     },
     "execution_count": 11,
     "metadata": {},
     "output_type": "execute_result"
    }
   ],
   "source": [
    "from langchain.prompts import FewShotPromptTemplate\n",
    "\n",
    "prompt = FewShotPromptTemplate(\n",
    "    examples=examples,\n",
    "    example_prompt=example_prompt,\n",
    "    suffix=\"Question: {question}\",\n",
    "    input_variables=[\"question\"],\n",
    ")\n",
    "\n",
    "prompt.format(question=\"The Holdovers\")"
   ]
  },
  {
   "cell_type": "code",
   "execution_count": 13,
   "metadata": {},
   "outputs": [
    {
     "name": "stdout",
     "output_type": "stream",
     "text": [
      "감독: 미셸 공드리\n",
      "주요 출연진: 짐 캐리, 케이트 윈슬렛\n",
      "예산: 약 2천만 달러\n",
      "흥행 수익: 약 7천만 달러\n",
      "장르: 로맨스, SF, 드라마\n",
      "시놉시스: 기억을 삭제하는 기술을 이용해 헤어진 연인 '조엘'이 자신의 기억 속에서 그녀를 잊지 못하는 과거를 되짚는 과정을 그린 영화."
     ]
    },
    {
     "data": {
      "text/plain": [
       "AIMessageChunk(content=\"감독: 미셸 공드리\\n주요 출연진: 짐 캐리, 케이트 윈슬렛\\n예산: 약 2천만 달러\\n흥행 수익: 약 7천만 달러\\n장르: 로맨스, SF, 드라마\\n시놉시스: 기억을 삭제하는 기술을 이용해 헤어진 연인 '조엘'이 자신의 기억 속에서 그녀를 잊지 못하는 과거를 되짚는 과정을 그린 영화.\")"
      ]
     },
     "execution_count": 13,
     "metadata": {},
     "output_type": "execute_result"
    }
   ],
   "source": [
    "chain = prompt | chat\n",
    "\n",
    "chain.invoke({\"question\": \"Eternal Sunshine\"})"
   ]
  }
 ],
 "metadata": {
  "kernelspec": {
   "display_name": "env",
   "language": "python",
   "name": "python3"
  },
  "language_info": {
   "codemirror_mode": {
    "name": "ipython",
    "version": 3
   },
   "file_extension": ".py",
   "mimetype": "text/x-python",
   "name": "python",
   "nbconvert_exporter": "python",
   "pygments_lexer": "ipython3",
   "version": "3.11.8"
  }
 },
 "nbformat": 4,
 "nbformat_minor": 2
}
