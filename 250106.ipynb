{
 "cells": [
  {
   "cell_type": "code",
   "execution_count": 25,
   "metadata": {},
   "outputs": [],
   "source": [
    "from langchain.prompts import ChatPromptTemplate\n",
    "from langchain.chains import LLMChain, SimpleSequentialChain\n",
    "from langchain.chat_models import ChatOpenAI\n",
    "from langchain.schema import BaseOutputParser\n",
    "from langchain.callbacks import StreamingStdOutCallbackHandler\n",
    "\n",
    "chat = ChatOpenAI(\n",
    "    model=\"gpt-3.5-turbo\", \n",
    "    temperature=0.7, \n",
    "    streaming=True,\n",
    "    callbacks=[StreamingStdOutCallbackHandler()]\n",
    "    )\n",
    "\n",
    "haiku_prompt = ChatPromptTemplate.from_messages([\n",
    "    (\"system\", \n",
    "     \"\"\"\n",
    "        Write a Haiku about the programming language. A Haiku has three lines with the following structure:\n",
    "        - Line 1: 5 syllables\n",
    "        - Line 2: 7 syllables\n",
    "        - Line 3: 5 syllables\n",
    "        Make sure the Haiku reflects the essence of the language.\n",
    "        Write it in Korean.\n",
    "     \"\"\"\n",
    "    ),\n",
    "    (\"human\", \"I want to write a Haiku about {language}.\"),\n",
    "])\n",
    "\n",
    "haiku_chain = haiku_prompt | chat\n"
   ]
  },
  {
   "cell_type": "code",
   "execution_count": 26,
   "metadata": {},
   "outputs": [],
   "source": [
    "explanation_prompt = ChatPromptTemplate.from_messages([\n",
    "    (\"system\", \n",
    "     \"\"\"\n",
    "        Explain this Haiku:\n",
    "        \"{haiku}\"\n",
    "        Provide insights into how it reflects the essence of the programming language. \n",
    "        Focus on the meaning and the connection to the language's characteristics.\n",
    "        Answer in Korean.\n",
    "     \"\"\"\n",
    "    ),\n",
    "    (\"human\", \"{haiku}\"),\n",
    "])\n",
    "\n",
    "explanation_chain = explanation_prompt | chat"
   ]
  },
  {
   "cell_type": "code",
   "execution_count": 27,
   "metadata": {},
   "outputs": [
    {
     "name": "stdout",
     "output_type": "stream",
     "text": [
      "자바스크립트야,\n",
      "웹을 빛내주는,\n",
      "마법 같은 언어.이 해석은 자바스크립트를 표현한 것으로, 자바스크립트는 웹 개발에서 가장 흔히 사용되는 프로그래밍 언어 중 하나입니다. 해석에서 \"웹을 빛내주는\"이라는 표현은 자바스크립트가 다양한 동적 기능과 상호작용을 통해 웹사이트를 더 생동감 있게 만들어주는 역할을 강조하고 있습니다. 또한 \"마법 같은 언어\"라는 표현은 자바스크립트가 강력한 기능과 유연성을 가지고 있어, 마치 마법처럼 다양한 기능을 구현할 수 있다는 것을 나타냅니다. 이러한 특징들이 자바스크립트가 웹 개발에서 널리 사용되고 사랑받는 이유 중 하나라고 할 수 있습니다."
     ]
    },
    {
     "data": {
      "text/plain": [
       "AIMessageChunk(content='이 해석은 자바스크립트를 표현한 것으로, 자바스크립트는 웹 개발에서 가장 흔히 사용되는 프로그래밍 언어 중 하나입니다. 해석에서 \"웹을 빛내주는\"이라는 표현은 자바스크립트가 다양한 동적 기능과 상호작용을 통해 웹사이트를 더 생동감 있게 만들어주는 역할을 강조하고 있습니다. 또한 \"마법 같은 언어\"라는 표현은 자바스크립트가 강력한 기능과 유연성을 가지고 있어, 마치 마법처럼 다양한 기능을 구현할 수 있다는 것을 나타냅니다. 이러한 특징들이 자바스크립트가 웹 개발에서 널리 사용되고 사랑받는 이유 중 하나라고 할 수 있습니다.')"
      ]
     },
     "execution_count": 27,
     "metadata": {},
     "output_type": "execute_result"
    }
   ],
   "source": [
    "final_chain = { \"haiku\" : haiku_chain } | explanation_chain\n",
    "\n",
    "final_chain.invoke({\n",
    "    \"language\": \"Javascript\"\n",
    "})"
   ]
  }
 ],
 "metadata": {
  "kernelspec": {
   "display_name": "env",
   "language": "python",
   "name": "python3"
  },
  "language_info": {
   "codemirror_mode": {
    "name": "ipython",
    "version": 3
   },
   "file_extension": ".py",
   "mimetype": "text/x-python",
   "name": "python",
   "nbconvert_exporter": "python",
   "pygments_lexer": "ipython3",
   "version": "3.11.8"
  }
 },
 "nbformat": 4,
 "nbformat_minor": 2
}
