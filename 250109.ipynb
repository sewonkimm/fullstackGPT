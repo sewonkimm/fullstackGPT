{
 "cells": [
  {
   "cell_type": "code",
   "execution_count": 9,
   "metadata": {},
   "outputs": [],
   "source": [
    "from langchain.chat_models import ChatOpenAI\n",
    "from langchain.callbacks import StreamingStdOutCallbackHandler\n",
    "from langchain.prompts import ChatPromptTemplate\n",
    "\n",
    "chat = ChatOpenAI(\n",
    "    model=\"gpt-3.5-turbo\", \n",
    "    temperature=0.1, \n",
    "    streaming=True,\n",
    "    callbacks=[StreamingStdOutCallbackHandler()]\n",
    "    )\n"
   ]
  },
  {
   "cell_type": "code",
   "execution_count": 13,
   "metadata": {},
   "outputs": [
    {
     "name": "stdout",
     "output_type": "stream",
     "text": [
      "System: You are an AI bot that represents movies using exactly three emojis.\n",
      "Human: Can you show me the emojis for 'The Godfather'?\n",
      "AI: 👨‍👨‍👦🔫🍝\n",
      "Human: What about 'Top Gun'?\n",
      "AI: 🛩️👨‍✈️🔥\n",
      "Human: Harry Potter\n"
     ]
    }
   ],
   "source": [
    "from langchain.prompts import FewShotChatMessagePromptTemplate\n",
    "\n",
    "\n",
    "examples = [\n",
    "    {\n",
    "        \"question\": \"500 Days of Summer\",\n",
    "        \"answer\": \"🌞🌧️💔\"\n",
    "    },\n",
    "    {\n",
    "        \"question\": \"Life of Pi\",\n",
    "        \"answer\": \"🐯🌊🚣\"\n",
    "    },\n",
    "    {\n",
    "        \"question\": \"Inside Out\",\n",
    "        \"answer\": \"😄😢😡\"\n",
    "    }\n",
    "]\n",
    "\n",
    "\n",
    "prompt = ChatPromptTemplate.from_messages([\n",
    "    (\"system\", \"You are an AI bot that represents movies using exactly three emojis.\"),\n",
    "    (\"human\", \"Can you show me the emojis for 'The Godfather'?\"),\n",
    "    (\"ai\", \"👨‍👨‍👦🔫🍝\"),\n",
    "    (\"human\", \"What about 'Top Gun'?\"),\n",
    "    (\"ai\", \"🛩️👨‍✈️🔥\"),\n",
    "    (\"human\", \"{movie_title}\"),\n",
    "])\n",
    "\n",
    "few_shot_prompt = FewShotChatMessagePromptTemplate(\n",
    "    examples=examples,\n",
    "    example_prompt=prompt,\n",
    "    input_variables=[\"movie_title\"],\n",
    ")\n",
    "\n",
    "formatted_prompt = prompt.format(movie_title=\"Harry Potter\")\n",
    "print(formatted_prompt)"
   ]
  },
  {
   "cell_type": "code",
   "execution_count": 19,
   "metadata": {},
   "outputs": [],
   "source": [
    "from langchain.memory import ConversationBufferMemory\n",
    "from langchain.schema.runnable import RunnablePassthrough\n",
    "\n",
    "memory = ConversationBufferMemory(llm=chat)\n",
    "\n",
    "def load_memory(_):\n",
    "    return memory.load_memory_variables({})[\"history\"]\n",
    "\n",
    "\n",
    "chain = RunnablePassthrough.assign(history=load_memory) | prompt | chat\n",
    "\n",
    "\n",
    "def invoke_chain(movie_title):\n",
    "    result = chain.invoke({\"movie_title\": movie_title})\n",
    "    memory.save_context(\n",
    "        {\"input\": movie_title},\n",
    "        {\"output\": result.content},\n",
    "    )\n",
    "    print(result)"
   ]
  },
  {
   "cell_type": "code",
   "execution_count": 20,
   "metadata": {},
   "outputs": [
    {
     "name": "stdout",
     "output_type": "stream",
     "text": [
      "⚡🧙🏰content='⚡🧙🏰'\n"
     ]
    }
   ],
   "source": [
    "\n",
    "invoke_chain(\"Harry Potter\")"
   ]
  },
  {
   "cell_type": "code",
   "execution_count": 21,
   "metadata": {},
   "outputs": [
    {
     "name": "stdout",
     "output_type": "stream",
     "text": [
      "🕷️🕸️🦸‍♂️content='🕷️🕸️🦸\\u200d♂️'\n"
     ]
    }
   ],
   "source": [
    "invoke_chain(\"The Spider Man\")"
   ]
  },
  {
   "cell_type": "code",
   "execution_count": 22,
   "metadata": {},
   "outputs": [
    {
     "name": "stdout",
     "output_type": "stream",
     "text": [
      "The prev movie you asked about was: The Spider Man\n"
     ]
    }
   ],
   "source": [
    "def get_prev_movie_question():\n",
    "    history = memory.load_memory_variables({})[\"history\"]\n",
    "\n",
    "    lines = history.split(\"\\n\")\n",
    "    for line in reversed(lines): \n",
    "        if line.startswith(\"Human:\"):\n",
    "            return line.replace(\"Human:\", \"\").strip()  \n",
    "    return \"No movie has been asked yet.\"\n",
    "\n",
    "prev_movie = get_prev_movie_question()\n",
    "print(\"The prev movie you asked about was:\", prev_movie)"
   ]
  }
 ],
 "metadata": {
  "kernelspec": {
   "display_name": "env",
   "language": "python",
   "name": "python3"
  },
  "language_info": {
   "codemirror_mode": {
    "name": "ipython",
    "version": 3
   },
   "file_extension": ".py",
   "mimetype": "text/x-python",
   "name": "python",
   "nbconvert_exporter": "python",
   "pygments_lexer": "ipython3",
   "version": "3.11.8"
  }
 },
 "nbformat": 4,
 "nbformat_minor": 2
}
